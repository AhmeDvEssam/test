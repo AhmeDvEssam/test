{
 "cells": [
  {
   "cell_type": "markdown",
   "id": "be81222f-6a26-40cd-bbde-a7dac498731c",
   "metadata": {},
   "source": [
    "# Data Science Tools and Ecosysytem"
   ]
  },
  {
   "cell_type": "markdown",
   "id": "53ad343f-151b-4e1c-8458-2cd934460dbc",
   "metadata": {},
   "source": [
    "## In this notebook, Data Science Tools and Ecosystem are summarized.\n"
   ]
  },
  {
   "cell_type": "markdown",
   "id": "19da772e-31cd-4fb6-8823-b1a2f48c6dd4",
   "metadata": {},
   "source": [
    "### Some of the popular languages that Data Scientists use are:"
   ]
  },
  {
   "cell_type": "markdown",
   "id": "b2192424-4dd2-43ef-91dd-2859b0801103",
   "metadata": {},
   "source": [
    "### 1. python\n",
    "### 2. R\n",
    "### 3. C++"
   ]
  },
  {
   "cell_type": "markdown",
   "id": "26ed2c06-e573-4f31-a4b5-d02f4b0c9d20",
   "metadata": {},
   "source": [
    "## Some of the commonly used libraries used by Data Scientists include:"
   ]
  },
  {
   "cell_type": "markdown",
   "id": "139e350f-c0e6-4a99-a860-dd8025fde611",
   "metadata": {},
   "source": [
    "### 1. Pandas\n",
    "### 2. numby\n",
    "### 3. matplotlib"
   ]
  },
  {
   "cell_type": "markdown",
   "id": "c8fa9ba1-a510-4dc4-acb6-1dcd6b44b6c9",
   "metadata": {},
   "source": [
    "## Data Science Tools"
   ]
  },
  {
   "cell_type": "markdown",
   "id": "3e151137-b777-497f-9160-615bc074bd24",
   "metadata": {},
   "source": [
    "|open source tools used in data science|\n",
    "|--------------------------------------|\n",
    "|Jupyter Notebooks |\n",
    "| RStudio |\n",
    "|Apache Spark |"
   ]
  },
  {
   "cell_type": "markdown",
   "id": "0845c13f-523c-4d70-8f01-fd3ce3c5460d",
   "metadata": {},
   "source": [
    "### Below are a few examples of evaluating arithmetic expressions in Python"
   ]
  },
  {
   "cell_type": "code",
   "execution_count": 4,
   "id": "b5a889a1-7131-4d58-a35f-05513f66d355",
   "metadata": {},
   "outputs": [
    {
     "data": {
      "text/plain": [
       "17"
      ]
     },
     "execution_count": 4,
     "metadata": {},
     "output_type": "execute_result"
    }
   ],
   "source": [
    "(3*4)+5"
   ]
  },
  {
   "cell_type": "code",
   "execution_count": null,
   "id": "81a666b3-5061-4ba3-8356-469f0e8936f0",
   "metadata": {},
   "outputs": [],
   "source": [
    "# This a simple arithmetic expression to mutiply then add integers"
   ]
  },
  {
   "cell_type": "code",
   "execution_count": null,
   "id": "84a3e708-1d03-4bc7-8d18-587571dfcec9",
   "metadata": {},
   "outputs": [],
   "source": [
    "# This will convert 200 minutes to hours by diving by 60"
   ]
  },
  {
   "cell_type": "code",
   "execution_count": 9,
   "id": "1082684a-58f0-4a3a-8cec-52f5ad7dcb66",
   "metadata": {},
   "outputs": [
    {
     "data": {
      "text/plain": [
       "3.3333333333333335"
      ]
     },
     "execution_count": 9,
     "metadata": {},
     "output_type": "execute_result"
    }
   ],
   "source": [
    "200/60"
   ]
  },
  {
   "cell_type": "markdown",
   "id": "e2bd8f18-4df9-4e00-b440-6265a4756b71",
   "metadata": {},
   "source": [
    "__Objectives:__"
   ]
  },
  {
   "cell_type": "markdown",
   "id": "03982071-9fee-48ab-84b5-4116363d1e4d",
   "metadata": {},
   "source": [
    "* List popular languages for Data Science\n",
    "* Some of the commonly used libraries used by Data Scientists\n",
    "* Data Science Tools"
   ]
  },
  {
   "cell_type": "markdown",
   "id": "687870a7-a1ff-442b-bed0-c6cbd8e89b49",
   "metadata": {},
   "source": [
    "## Author"
   ]
  },
  {
   "cell_type": "markdown",
   "id": "83b86a29-b60c-47c7-8cdc-a8e9e14958a2",
   "metadata": {},
   "source": [
    "__Ahmed Essam Eldin Hamed__"
   ]
  },
  {
   "cell_type": "code",
   "execution_count": null,
   "id": "f71cd6af-5b6a-49f4-84ea-d714b5350106",
   "metadata": {},
   "outputs": [],
   "source": []
  }
 ],
 "metadata": {
  "kernelspec": {
   "display_name": "Python 3 (ipykernel)",
   "language": "python",
   "name": "python3"
  },
  "language_info": {
   "codemirror_mode": {
    "name": "ipython",
    "version": 3
   },
   "file_extension": ".py",
   "mimetype": "text/x-python",
   "name": "python",
   "nbconvert_exporter": "python",
   "pygments_lexer": "ipython3",
   "version": "3.9.7"
  }
 },
 "nbformat": 4,
 "nbformat_minor": 5
}
